{
  "nbformat": 4,
  "nbformat_minor": 0,
  "metadata": {
    "colab": {
      "provenance": [],
      "authorship_tag": "ABX9TyOxFMgKFmwpgeiD/5xq0X+n",
      "include_colab_link": true
    },
    "kernelspec": {
      "name": "python3",
      "display_name": "Python 3"
    },
    "language_info": {
      "name": "python"
    }
  },
  "cells": [
    {
      "cell_type": "markdown",
      "metadata": {
        "id": "view-in-github",
        "colab_type": "text"
      },
      "source": [
        "<a href=\"https://colab.research.google.com/github/BeatrizMiotto/chatbot_imersao_alura/blob/main/chatbotmiotto.ipynb\" target=\"_parent\"><img src=\"https://colab.research.google.com/assets/colab-badge.svg\" alt=\"Open In Colab\"/></a>"
      ]
    },
    {
      "cell_type": "code",
      "execution_count": 15,
      "metadata": {
        "id": "9RCWx8yW7F-_"
      },
      "outputs": [],
      "source": [
        "!pip install -q -U google-generativeai"
      ]
    },
    {
      "cell_type": "code",
      "source": [
        "import google.generativeai as genai\n",
        "GOOGLE_API_KEY = "SECRET_KEY",
        "genai.configure(api_key=GOOGLE_API_KEY)"
      ],
      "metadata": {
        "id": "aZfAKIUPEWhr"
      },
      "execution_count": 3,
      "outputs": []
    },
    {
      "cell_type": "code",
      "source": [
        "from ast import Mod\n",
        "for modelos in genai.list_models():\n",
        "  if 'generateContent' in modelos.supported_generation_methods:\n",
        "    print(modelos.name)"
      ],
      "metadata": {
        "colab": {
          "base_uri": "https://localhost:8080/",
          "height": 139
        },
        "id": "ryhYYSmIN3aX",
        "outputId": "57175455-3819-4492-dcae-843d21aa72c8"
      },
      "execution_count": 9,
      "outputs": [
        {
          "output_type": "stream",
          "name": "stdout",
          "text": [
            "models/gemini-1.0-pro\n",
            "models/gemini-1.0-pro-001\n",
            "models/gemini-1.0-pro-latest\n",
            "models/gemini-1.0-pro-vision-latest\n",
            "models/gemini-1.5-pro-latest\n",
            "models/gemini-pro\n",
            "models/gemini-pro-vision\n"
          ]
        }
      ]
    },
    {
      "cell_type": "code",
      "source": [
        "generation_config ={\n",
        "    \"candidate_count\": 1,\n",
        "    \"temperature\": 1,\n",
        "}"
      ],
      "metadata": {
        "id": "sijkYEKhF0MB"
      },
      "execution_count": 4,
      "outputs": []
    },
    {
      "cell_type": "code",
      "source": [
        "safety_settings = {\n",
        "    \"HARASSMENT\": \"BLOCK_none\",\n",
        "    \"HATE\": \"BLOCK_none\",\n",
        "    \"SEXUAL\": \"BLOCK_none\",\n",
        "    \"DANGEROUS\": \"BLOCK_none\",\n",
        "\n",
        "}"
      ],
      "metadata": {
        "id": "QNKyXmj1KQFJ"
      },
      "execution_count": 20,
      "outputs": []
    },
    {
      "cell_type": "code",
      "source": [
        "model=genai.GenerativeModel(model_name=\"gemini-1.0-pro\",\n",
        "                              generation_config = generation_config,\n",
        "                              safety_settings = safety_settings\n",
        "                              )"
      ],
      "metadata": {
        "id": "4ctj6-U6LzEt"
      },
      "execution_count": 22,
      "outputs": []
    },
    {
      "cell_type": "code",
      "source": [
        "response = model.generate_content(\"Vamos aprender python.\")\n",
        "print(response.text)"
      ],
      "metadata": {
        "colab": {
          "base_uri": "https://localhost:8080/",
          "height": 1000
        },
        "id": "KtUZLlE4S2Hn",
        "outputId": "Secret_key"
      },
      "execution_count": 24,
      "outputs": [
        {
          "output_type": "stream",
          "name": "stdout",
          "text": [
            "**Iniciando em Python**\n",
            "\n",
            "**1. Instalação:**\n",
            "* Visite o site oficial do Python (https://www.python.org/)\n",
            "* Baixe e instale a versão mais recente para seu sistema operacional\n",
            "\n",
            "**2. Ambiente de Desenvolvimento (IDE):**\n",
            "* O IDE recomendado para iniciantes é o Python IDLE (incluído na instalação do Python)\n",
            "* Você também pode usar outros IDEs como PyCharm ou Visual Studio Code\n",
            "\n",
            "**3. Sintaxe Básica:**\n",
            "* Declarações terminam com dois pontos (:)\n",
            "* Blocos são indicados por identação (normalmente por espaços ou tabulações)\n",
            "\n",
            "**Tipos de Dados**\n",
            "\n",
            "* **Inteiros:** números inteiros (int)\n",
            "* **Flutuantes:** números com casas decimais (float)\n",
            "* **Strings:** sequências de caracteres (str)\n",
            "* **Booleanos:** valores verdadeiros ou falsos (bool)\n",
            "* **Listas:** coleções ordenadas de elementos (list)\n",
            "* **Dicionários:** coleções não ordenadas de chave-valor (dict)\n",
            "\n",
            "**Operadores**\n",
            "\n",
            "* **Aritméticos:** +, -, *, /, %\n",
            "* **Comparação:** ==, !=, >, <, >=, <=\n",
            "* **Lógicos:** and, or, not\n",
            "\n",
            "**Estruturas de Controle**\n",
            "\n",
            "* **Condicionais:** if, elif, else\n",
            "* **Laços:** for, while\n",
            "* **Funções:** blocos de código reutilizáveis\n",
            "\n",
            "**Entrada/Saída**\n",
            "\n",
            "* **Entrada:** input()\n",
            "* **Saída:** print()\n",
            "\n",
            "**Exemplo Básico**\n",
            "\n",
            "```python\n",
            "print(\"Olá, mundo!\")\n",
            "```\n",
            "\n",
            "**Recursos Adicionais**\n",
            "\n",
            "* [Documentação do Python](https://docs.python.org/3/)\n",
            "* [Tutorial Interativo](https://www.w3schools.com/python/python_intro.asp)\n",
            "* [Comunidade Python](https://www.reddit.com/r/learnpython/)\n",
            "\n",
            "**Dicas para Iniciantes:**\n",
            "\n",
            "* Pratique regularmente\n",
            "* Documente seu código\n",
            "* Use recursos de ajuda online para esclarecer seus conceitos\n",
            "* Não tenha medo de cometer erros, pois eles são uma parte essencial do aprendizado\n"
          ]
        }
      ]
    },
    {
      "cell_type": "code",
      "source": [
        "chat = model.start_chat(history=[])"
      ],
      "metadata": {
        "id": "DhDOMI7EUBDE"
      },
      "execution_count": 25,
      "outputs": []
    },
    {
      "cell_type": "code",
      "source": [
        "prompt = input(\"Aguardando: \")\n",
        "\n",
        "while prompt != \"fim\":\n",
        "  response = chat.send_message(prompt)\n",
        "  print(\"Resposta: \", response.text)\n",
        "  prompt = input(\"Aguardando: \")"
      ],
      "metadata": {
        "colab": {
          "base_uri": "https://localhost:8080/",
          "height": 139
        },
        "id": "lZIHgjNpUuQ5",
        "outputId": "11279806-95a2-47c3-d901-4f182e2d7362"
      },
      "execution_count": 27,
      "outputs": [
        {
          "name": "stdout",
          "output_type": "stream",
          "text": [
            "Aguardando: capital do Brasil\n",
            "Resposta:  Brasília\n",
            "Aguardando: quem é o presidente\n",
            "Resposta:  Luiz Inácio Lula da Silva\n",
            "Aguardando: onde ele nasceu \n",
            "Resposta:  Garanhuns, Pernambuco\n",
            "Aguardando: fim\n"
          ]
        }
      ]
    },
    {
      "cell_type": "code",
      "source": [
        "chat"
      ],
      "metadata": {
        "colab": {
          "base_uri": "https://localhost:8080/"
        },
        "id": "1T1H6kshXGJk",
        "outputId": "1653da21-4408-4fae-c0a7-986bc8e0cb8b"
      },
      "execution_count": 28,
      "outputs": [
        {
          "output_type": "execute_result",
          "data": {
            "text/plain": [
              "ChatSession(\n",
              "    model=genai.GenerativeModel(\n",
              "        model_name='models/gemini-1.0-pro',\n",
              "        generation_config={'candidate_count': 1, 'temperature': 1},\n",
              "        safety_settings={<HarmCategory.HARM_CATEGORY_HARASSMENT: 7>: <HarmBlockThreshold.BLOCK_NONE: 4>, <HarmCategory.HARM_CATEGORY_HATE_SPEECH: 8>: <HarmBlockThreshold.BLOCK_NONE: 4>, <HarmCategory.HARM_CATEGORY_SEXUALLY_EXPLICIT: 9>: <HarmBlockThreshold.BLOCK_NONE: 4>, <HarmCategory.HARM_CATEGORY_DANGEROUS_CONTENT: 10>: <HarmBlockThreshold.BLOCK_NONE: 4>},\n",
              "        tools=None,\n",
              "        system_instruction=None,\n",
              "    ),\n",
              "    history=[glm.Content({'parts': [{'text': 'capital do Brasil'}], 'role': 'user'}), glm.Content({'parts': [{'text': 'Brasília'}], 'role': 'model'}), glm.Content({'parts': [{'text': 'quem é o presidente'}], 'role': 'user'}), glm.Content({'parts': [{'text': 'Luiz Inácio Lula da Silva'}], 'role': 'model'}), glm.Content({'parts': [{'text': 'onde ele nasceu '}], 'role': 'user'}), glm.Content({'parts': [{'text': 'Garanhuns, Pernambuco'}], 'role': 'model'})]\n",
              ")"
            ]
          },
          "metadata": {},
          "execution_count": 28
        }
      ]
    }
  ]
}
